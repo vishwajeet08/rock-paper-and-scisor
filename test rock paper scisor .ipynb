{
 "cells": [
  {
   "cell_type": "code",
   "execution_count": null,
   "metadata": {},
   "outputs": [],
   "source": [
    "from tkinter import *\n",
    "r=Tk()\n",
    "r1=r\n",
    "r.geometry(\"200x200\")\n",
    "\n",
    "def submit():\n",
    "    global v\n",
    "    Label(top,text='Hello , '+name.get()).grid(row=3)\n",
    "    Label(top, text=\"Please choose your option\").grid(row=4)\n",
    "    v=IntVar()\n",
    "    r1=Radiobutton(top,text='Rock',padx=20,variable=v,value=1).grid(row=6)\n",
    "    r2=Radiobutton(top,text=\"Paper\",padx=20,variable=v,value=2).grid(row=7)\n",
    "    r3=Radiobutton(top,text='Scisor',padx=20,variable=v,value=3).grid(row=8)\n",
    "    \n",
    "\n",
    "\n",
    "\n",
    "def proced():\n",
    "    global top\n",
    "    global name\n",
    "    top=Toplevel(r1)\n",
    "    Label(top,text=\"Name\").grid(row=0)\n",
    "    name=Entry(top)\n",
    "    name.grid(row=0,column=1)\n",
    "    b1=Button(top,text=\"Submit\",command=submit).grid(row=0,column=2)\n",
    "    \n",
    "    r.withdraw()\n",
    "\n",
    "Label(r,text=\"Welcome! to Game\").grid(row=0)\n",
    "b=Button(r,text=\"Proceed\",command=proced).grid(row=2)\n",
    "\n",
    "r.mainloop()"
   ]
  },
  {
   "cell_type": "code",
   "execution_count": null,
   "metadata": {},
   "outputs": [],
   "source": []
  }
 ],
 "metadata": {
  "kernelspec": {
   "display_name": "Python 3",
   "language": "python",
   "name": "python3"
  },
  "language_info": {
   "codemirror_mode": {
    "name": "ipython",
    "version": 3
   },
   "file_extension": ".py",
   "mimetype": "text/x-python",
   "name": "python",
   "nbconvert_exporter": "python",
   "pygments_lexer": "ipython3",
   "version": "3.7.4"
  }
 },
 "nbformat": 4,
 "nbformat_minor": 4
}
